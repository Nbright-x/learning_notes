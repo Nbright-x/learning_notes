{
 "cells": [
  {
   "cell_type": "markdown",
   "metadata": {},
   "source": [
    "## 初识pandas\n",
    "\n",
    "首先，pandas重点提供了两种数据结构：\n",
    "- Series\n",
    "\n",
    "  序列，一维数据，是对NumPy的一维数组的封装，但是相较于NumPy使用整型下标，它使用自定义(比如有意义的字符串)的索引(index)\n",
    "- DataFrame\n",
    "\n",
    "  数据框，二维数据，是对NumPy的二维数组的封装，但是相较于NumPy使用整型下标，它可以使用自定义的索引(index)和列名(column)\n",
    "\n",
    "在使用index,column之外，这两个封装额外还附带了更多趁手的方法，比如：\n",
    "- describe ——— 快速计算数据的各种描述性统计值(均值、总和、中位数、四分位数等等)\n",
    "- unique ——— 数据的独立值列表(比如想知道某个特征的所有取值可能)\n",
    "- value_count ——— 各个值的计数\n",
    "- hist ——— 直接绘制直方图\n",
    "- plot ———— 对matplotlib进行了简单的封装，可以快速地进行简单的数据绘图\n",
    "\n",
    "其次，pandas还提供了很多非常有用的处理数据时的小工具，比如:\n",
    "- 便捷的Ｉ/O ——— 提供了直接读取Excel、CSV等常见的数据文件工具\n",
    "- SQL的功能 ——— 提供了groupby，join等功能\n",
    "- Excel的功能 ——— 透视表(pivot table)功能\n",
    "- 日期相关功能 ——— 直观到像自然语言，不必费劲地去理解Python自带的日期库"
   ]
  },
  {
   "cell_type": "markdown",
   "metadata": {},
   "source": [
    "接下来，我们大致领略一下pandas的核心功能\n",
    "首先导入需要用的模块:"
   ]
  },
  {
   "cell_type": "code",
   "execution_count": null,
   "metadata": {},
   "outputs": [],
   "source": [
    "import pandas as pd\n",
    "import numpy as np\n",
    "import matplotlib.pyplot as plt\n",
    "%matplotlib inline"
   ]
  },
  {
   "cell_type": "markdown",
   "metadata": {},
   "source": [
    "# 创建对象(Object Creation)\n",
    "通过传入一个列表数据，pandas可以创建一个使用默认整型作为索引的Series对象"
   ]
  },
  {
   "cell_type": "code",
   "execution_count": 2,
   "metadata": {},
   "outputs": [
    {
     "data": {
      "text/plain": [
       "0    1.0\n",
       "1    2.0\n",
       "2    3.0\n",
       "3    4.0\n",
       "4    NaN\n",
       "5    6.0\n",
       "6    7.0\n",
       "7    8.0\n",
       "dtype: float64"
      ]
     },
     "execution_count": 2,
     "metadata": {},
     "output_type": "execute_result"
    }
   ],
   "source": [
    "s = pd.Series([1,2,3,4,np.nan,6,7,8])\n",
    "s"
   ]
  },
  {
   "cell_type": "markdown",
   "metadata": {},
   "source": [
    "可以构建一个使用日期和标签作为索引的DataFrame对象"
   ]
  },
  {
   "cell_type": "code",
   "execution_count": 5,
   "metadata": {},
   "outputs": [
    {
     "data": {
      "text/plain": [
       "DatetimeIndex(['2019-08-19', '2019-08-20', '2019-08-21', '2019-08-22',\n",
       "               '2019-08-23', '2019-08-24'],\n",
       "              dtype='datetime64[ns]', freq='D')"
      ]
     },
     "execution_count": 5,
     "metadata": {},
     "output_type": "execute_result"
    }
   ],
   "source": [
    "dates = pd.date_range('20190819', periods = 6)\n",
    "dates"
   ]
  },
  {
   "cell_type": "code",
   "execution_count": 6,
   "metadata": {},
   "outputs": [
    {
     "data": {
      "text/html": [
       "<div>\n",
       "<style scoped>\n",
       "    .dataframe tbody tr th:only-of-type {\n",
       "        vertical-align: middle;\n",
       "    }\n",
       "\n",
       "    .dataframe tbody tr th {\n",
       "        vertical-align: top;\n",
       "    }\n",
       "\n",
       "    .dataframe thead th {\n",
       "        text-align: right;\n",
       "    }\n",
       "</style>\n",
       "<table border=\"1\" class=\"dataframe\">\n",
       "  <thead>\n",
       "    <tr style=\"text-align: right;\">\n",
       "      <th></th>\n",
       "      <th>A</th>\n",
       "      <th>B</th>\n",
       "      <th>C</th>\n",
       "      <th>D</th>\n",
       "    </tr>\n",
       "  </thead>\n",
       "  <tbody>\n",
       "    <tr>\n",
       "      <th>2019-08-19</th>\n",
       "      <td>-0.252714</td>\n",
       "      <td>-0.225335</td>\n",
       "      <td>-0.950349</td>\n",
       "      <td>1.324846</td>\n",
       "    </tr>\n",
       "    <tr>\n",
       "      <th>2019-08-20</th>\n",
       "      <td>0.880918</td>\n",
       "      <td>-0.355636</td>\n",
       "      <td>0.949529</td>\n",
       "      <td>0.512453</td>\n",
       "    </tr>\n",
       "    <tr>\n",
       "      <th>2019-08-21</th>\n",
       "      <td>0.809549</td>\n",
       "      <td>0.065785</td>\n",
       "      <td>0.479020</td>\n",
       "      <td>-0.586858</td>\n",
       "    </tr>\n",
       "    <tr>\n",
       "      <th>2019-08-22</th>\n",
       "      <td>0.505261</td>\n",
       "      <td>-0.238466</td>\n",
       "      <td>-0.311095</td>\n",
       "      <td>1.132118</td>\n",
       "    </tr>\n",
       "    <tr>\n",
       "      <th>2019-08-23</th>\n",
       "      <td>1.337236</td>\n",
       "      <td>-0.549709</td>\n",
       "      <td>-0.248290</td>\n",
       "      <td>0.766576</td>\n",
       "    </tr>\n",
       "    <tr>\n",
       "      <th>2019-08-24</th>\n",
       "      <td>0.665090</td>\n",
       "      <td>-0.594375</td>\n",
       "      <td>0.833880</td>\n",
       "      <td>0.964168</td>\n",
       "    </tr>\n",
       "  </tbody>\n",
       "</table>\n",
       "</div>"
      ],
      "text/plain": [
       "                   A         B         C         D\n",
       "2019-08-19 -0.252714 -0.225335 -0.950349  1.324846\n",
       "2019-08-20  0.880918 -0.355636  0.949529  0.512453\n",
       "2019-08-21  0.809549  0.065785  0.479020 -0.586858\n",
       "2019-08-22  0.505261 -0.238466 -0.311095  1.132118\n",
       "2019-08-23  1.337236 -0.549709 -0.248290  0.766576\n",
       "2019-08-24  0.665090 -0.594375  0.833880  0.964168"
      ]
     },
     "execution_count": 6,
     "metadata": {},
     "output_type": "execute_result"
    }
   ],
   "source": [
    "df = pd.DataFrame(np.random.randn(6,4), index=dates, columns=tuple('ABCD')) # tuple('ABCD') is short for ('A','B','C','D')\n",
    "df"
   ]
  },
  {
   "cell_type": "markdown",
   "metadata": {},
   "source": [
    "也可以使用一个字典(dict)来创建一个DataFrame对象，而且它会自动应用NumPy的广播"
   ]
  },
  {
   "cell_type": "code",
   "execution_count": 7,
   "metadata": {},
   "outputs": [
    {
     "data": {
      "text/html": [
       "<div>\n",
       "<style scoped>\n",
       "    .dataframe tbody tr th:only-of-type {\n",
       "        vertical-align: middle;\n",
       "    }\n",
       "\n",
       "    .dataframe tbody tr th {\n",
       "        vertical-align: top;\n",
       "    }\n",
       "\n",
       "    .dataframe thead th {\n",
       "        text-align: right;\n",
       "    }\n",
       "</style>\n",
       "<table border=\"1\" class=\"dataframe\">\n",
       "  <thead>\n",
       "    <tr style=\"text-align: right;\">\n",
       "      <th></th>\n",
       "      <th>A</th>\n",
       "      <th>B</th>\n",
       "      <th>C</th>\n",
       "      <th>D</th>\n",
       "      <th>E</th>\n",
       "      <th>F</th>\n",
       "    </tr>\n",
       "  </thead>\n",
       "  <tbody>\n",
       "    <tr>\n",
       "      <th>0</th>\n",
       "      <td>1.0</td>\n",
       "      <td>2017-10-26</td>\n",
       "      <td>1.0</td>\n",
       "      <td>3</td>\n",
       "      <td>test</td>\n",
       "      <td>foo</td>\n",
       "    </tr>\n",
       "    <tr>\n",
       "      <th>1</th>\n",
       "      <td>1.0</td>\n",
       "      <td>2017-10-26</td>\n",
       "      <td>1.0</td>\n",
       "      <td>3</td>\n",
       "      <td>train</td>\n",
       "      <td>foo</td>\n",
       "    </tr>\n",
       "    <tr>\n",
       "      <th>2</th>\n",
       "      <td>1.0</td>\n",
       "      <td>2017-10-26</td>\n",
       "      <td>1.0</td>\n",
       "      <td>3</td>\n",
       "      <td>test</td>\n",
       "      <td>foo</td>\n",
       "    </tr>\n",
       "    <tr>\n",
       "      <th>3</th>\n",
       "      <td>1.0</td>\n",
       "      <td>2017-10-26</td>\n",
       "      <td>1.0</td>\n",
       "      <td>3</td>\n",
       "      <td>train</td>\n",
       "      <td>foo</td>\n",
       "    </tr>\n",
       "  </tbody>\n",
       "</table>\n",
       "</div>"
      ],
      "text/plain": [
       "     A          B    C  D      E    F\n",
       "0  1.0 2017-10-26  1.0  3   test  foo\n",
       "1  1.0 2017-10-26  1.0  3  train  foo\n",
       "2  1.0 2017-10-26  1.0  3   test  foo\n",
       "3  1.0 2017-10-26  1.0  3  train  foo"
      ]
     },
     "execution_count": 7,
     "metadata": {},
     "output_type": "execute_result"
    }
   ],
   "source": [
    "df2 = pd.DataFrame({'A' : 1.,\n",
    "                    'B' : pd.Timestamp('20171026'),\n",
    "                    'C' : pd.Series(1, index=list(range(4)),dtype='float32'),\n",
    "                    'D' : np.array([3] * 4, dtype = 'int32'),\n",
    "                    'E' : pd.Categorical([\"test\", \"train\", \"test\", \"train\"]),\n",
    "                    'F' : 'foo'})\n",
    "df2"
   ]
  },
  {
   "cell_type": "code",
   "execution_count": 8,
   "metadata": {},
   "outputs": [
    {
     "data": {
      "text/plain": [
       "A           float64\n",
       "B    datetime64[ns]\n",
       "C           float32\n",
       "D             int32\n",
       "E          category\n",
       "F            object\n",
       "dtype: object"
      ]
     },
     "execution_count": 8,
     "metadata": {},
     "output_type": "execute_result"
    }
   ],
   "source": [
    "df2.dtypes"
   ]
  },
  {
   "cell_type": "code",
   "execution_count": 9,
   "metadata": {},
   "outputs": [
    {
     "data": {
      "text/plain": [
       "0    1.0\n",
       "1    1.0\n",
       "2    1.0\n",
       "3    1.0\n",
       "Name: C, dtype: float32"
      ]
     },
     "execution_count": 9,
     "metadata": {},
     "output_type": "execute_result"
    }
   ],
   "source": [
    "df2.C # 直接使用标签来选择列，等价于df2['C']"
   ]
  },
  {
   "cell_type": "markdown",
   "metadata": {},
   "source": [
    "## 查看数据(viewing data)\n",
    "比如想看看一个DataFrame的头部和尾部："
   ]
  },
  {
   "cell_type": "code",
   "execution_count": 10,
   "metadata": {},
   "outputs": [
    {
     "data": {
      "text/html": [
       "<div>\n",
       "<style scoped>\n",
       "    .dataframe tbody tr th:only-of-type {\n",
       "        vertical-align: middle;\n",
       "    }\n",
       "\n",
       "    .dataframe tbody tr th {\n",
       "        vertical-align: top;\n",
       "    }\n",
       "\n",
       "    .dataframe thead th {\n",
       "        text-align: right;\n",
       "    }\n",
       "</style>\n",
       "<table border=\"1\" class=\"dataframe\">\n",
       "  <thead>\n",
       "    <tr style=\"text-align: right;\">\n",
       "      <th></th>\n",
       "      <th>A</th>\n",
       "      <th>B</th>\n",
       "      <th>C</th>\n",
       "      <th>D</th>\n",
       "    </tr>\n",
       "  </thead>\n",
       "  <tbody>\n",
       "    <tr>\n",
       "      <th>2019-08-19</th>\n",
       "      <td>-0.252714</td>\n",
       "      <td>-0.225335</td>\n",
       "      <td>-0.950349</td>\n",
       "      <td>1.324846</td>\n",
       "    </tr>\n",
       "    <tr>\n",
       "      <th>2019-08-20</th>\n",
       "      <td>0.880918</td>\n",
       "      <td>-0.355636</td>\n",
       "      <td>0.949529</td>\n",
       "      <td>0.512453</td>\n",
       "    </tr>\n",
       "    <tr>\n",
       "      <th>2019-08-21</th>\n",
       "      <td>0.809549</td>\n",
       "      <td>0.065785</td>\n",
       "      <td>0.479020</td>\n",
       "      <td>-0.586858</td>\n",
       "    </tr>\n",
       "    <tr>\n",
       "      <th>2019-08-22</th>\n",
       "      <td>0.505261</td>\n",
       "      <td>-0.238466</td>\n",
       "      <td>-0.311095</td>\n",
       "      <td>1.132118</td>\n",
       "    </tr>\n",
       "    <tr>\n",
       "      <th>2019-08-23</th>\n",
       "      <td>1.337236</td>\n",
       "      <td>-0.549709</td>\n",
       "      <td>-0.248290</td>\n",
       "      <td>0.766576</td>\n",
       "    </tr>\n",
       "  </tbody>\n",
       "</table>\n",
       "</div>"
      ],
      "text/plain": [
       "                   A         B         C         D\n",
       "2019-08-19 -0.252714 -0.225335 -0.950349  1.324846\n",
       "2019-08-20  0.880918 -0.355636  0.949529  0.512453\n",
       "2019-08-21  0.809549  0.065785  0.479020 -0.586858\n",
       "2019-08-22  0.505261 -0.238466 -0.311095  1.132118\n",
       "2019-08-23  1.337236 -0.549709 -0.248290  0.766576"
      ]
     },
     "execution_count": 10,
     "metadata": {},
     "output_type": "execute_result"
    }
   ],
   "source": [
    "df.head() #head默认参数为5，前5行"
   ]
  },
  {
   "cell_type": "code",
   "execution_count": 11,
   "metadata": {},
   "outputs": [
    {
     "data": {
      "text/html": [
       "<div>\n",
       "<style scoped>\n",
       "    .dataframe tbody tr th:only-of-type {\n",
       "        vertical-align: middle;\n",
       "    }\n",
       "\n",
       "    .dataframe tbody tr th {\n",
       "        vertical-align: top;\n",
       "    }\n",
       "\n",
       "    .dataframe thead th {\n",
       "        text-align: right;\n",
       "    }\n",
       "</style>\n",
       "<table border=\"1\" class=\"dataframe\">\n",
       "  <thead>\n",
       "    <tr style=\"text-align: right;\">\n",
       "      <th></th>\n",
       "      <th>A</th>\n",
       "      <th>B</th>\n",
       "      <th>C</th>\n",
       "      <th>D</th>\n",
       "    </tr>\n",
       "  </thead>\n",
       "  <tbody>\n",
       "    <tr>\n",
       "      <th>2019-08-22</th>\n",
       "      <td>0.505261</td>\n",
       "      <td>-0.238466</td>\n",
       "      <td>-0.311095</td>\n",
       "      <td>1.132118</td>\n",
       "    </tr>\n",
       "    <tr>\n",
       "      <th>2019-08-23</th>\n",
       "      <td>1.337236</td>\n",
       "      <td>-0.549709</td>\n",
       "      <td>-0.248290</td>\n",
       "      <td>0.766576</td>\n",
       "    </tr>\n",
       "    <tr>\n",
       "      <th>2019-08-24</th>\n",
       "      <td>0.665090</td>\n",
       "      <td>-0.594375</td>\n",
       "      <td>0.833880</td>\n",
       "      <td>0.964168</td>\n",
       "    </tr>\n",
       "  </tbody>\n",
       "</table>\n",
       "</div>"
      ],
      "text/plain": [
       "                   A         B         C         D\n",
       "2019-08-22  0.505261 -0.238466 -0.311095  1.132118\n",
       "2019-08-23  1.337236 -0.549709 -0.248290  0.766576\n",
       "2019-08-24  0.665090 -0.594375  0.833880  0.964168"
      ]
     },
     "execution_count": 11,
     "metadata": {},
     "output_type": "execute_result"
    }
   ],
   "source": [
    "df.tail(3)"
   ]
  },
  {
   "cell_type": "markdown",
   "metadata": {},
   "source": [
    "我们也可以看看索引、列名、以及底层的numpy数据都是什么样"
   ]
  },
  {
   "cell_type": "code",
   "execution_count": 12,
   "metadata": {},
   "outputs": [
    {
     "data": {
      "text/plain": [
       "DatetimeIndex(['2019-08-19', '2019-08-20', '2019-08-21', '2019-08-22',\n",
       "               '2019-08-23', '2019-08-24'],\n",
       "              dtype='datetime64[ns]', freq='D')"
      ]
     },
     "execution_count": 12,
     "metadata": {},
     "output_type": "execute_result"
    }
   ],
   "source": [
    "df.index"
   ]
  },
  {
   "cell_type": "code",
   "execution_count": 13,
   "metadata": {},
   "outputs": [
    {
     "data": {
      "text/plain": [
       "Index(['A', 'B', 'C', 'D'], dtype='object')"
      ]
     },
     "execution_count": 13,
     "metadata": {},
     "output_type": "execute_result"
    }
   ],
   "source": [
    "df.columns"
   ]
  },
  {
   "cell_type": "code",
   "execution_count": 14,
   "metadata": {},
   "outputs": [
    {
     "data": {
      "text/plain": [
       "array([[-0.25271442, -0.22533495, -0.95034883,  1.32484585],\n",
       "       [ 0.88091758, -0.35563601,  0.94952919,  0.51245277],\n",
       "       [ 0.80954862,  0.06578511,  0.47901969, -0.58685848],\n",
       "       [ 0.50526099, -0.23846574, -0.31109471,  1.13211788],\n",
       "       [ 1.33723599, -0.54970916, -0.24828969,  0.76657566],\n",
       "       [ 0.66508961, -0.59437456,  0.83388035,  0.96416846]])"
      ]
     },
     "execution_count": 14,
     "metadata": {},
     "output_type": "execute_result"
    }
   ],
   "source": [
    "df.values"
   ]
  },
  {
   "cell_type": "markdown",
   "metadata": {},
   "source": [
    "而且我们可以通过describe()方法来快速地看看数据的概括统计：\n",
    "- count:统计数量\n",
    "- mean: 均值\n",
    "- std: 标准差\n",
    "- min: 最小值\n",
    "- 25%: 四分位数\n",
    "- 50%: 中位数\n",
    "- 75%: 四分之三位数\n",
    "- max: 最大值"
   ]
  },
  {
   "cell_type": "code",
   "execution_count": 15,
   "metadata": {},
   "outputs": [
    {
     "data": {
      "text/html": [
       "<div>\n",
       "<style scoped>\n",
       "    .dataframe tbody tr th:only-of-type {\n",
       "        vertical-align: middle;\n",
       "    }\n",
       "\n",
       "    .dataframe tbody tr th {\n",
       "        vertical-align: top;\n",
       "    }\n",
       "\n",
       "    .dataframe thead th {\n",
       "        text-align: right;\n",
       "    }\n",
       "</style>\n",
       "<table border=\"1\" class=\"dataframe\">\n",
       "  <thead>\n",
       "    <tr style=\"text-align: right;\">\n",
       "      <th></th>\n",
       "      <th>A</th>\n",
       "      <th>B</th>\n",
       "      <th>C</th>\n",
       "      <th>D</th>\n",
       "    </tr>\n",
       "  </thead>\n",
       "  <tbody>\n",
       "    <tr>\n",
       "      <th>count</th>\n",
       "      <td>6.000000</td>\n",
       "      <td>6.000000</td>\n",
       "      <td>6.000000</td>\n",
       "      <td>6.000000</td>\n",
       "    </tr>\n",
       "    <tr>\n",
       "      <th>mean</th>\n",
       "      <td>0.657556</td>\n",
       "      <td>-0.316289</td>\n",
       "      <td>0.125449</td>\n",
       "      <td>0.685550</td>\n",
       "    </tr>\n",
       "    <tr>\n",
       "      <th>std</th>\n",
       "      <td>0.526650</td>\n",
       "      <td>0.242353</td>\n",
       "      <td>0.747474</td>\n",
       "      <td>0.684295</td>\n",
       "    </tr>\n",
       "    <tr>\n",
       "      <th>min</th>\n",
       "      <td>-0.252714</td>\n",
       "      <td>-0.594375</td>\n",
       "      <td>-0.950349</td>\n",
       "      <td>-0.586858</td>\n",
       "    </tr>\n",
       "    <tr>\n",
       "      <th>25%</th>\n",
       "      <td>0.545218</td>\n",
       "      <td>-0.501191</td>\n",
       "      <td>-0.295393</td>\n",
       "      <td>0.575983</td>\n",
       "    </tr>\n",
       "    <tr>\n",
       "      <th>50%</th>\n",
       "      <td>0.737319</td>\n",
       "      <td>-0.297051</td>\n",
       "      <td>0.115365</td>\n",
       "      <td>0.865372</td>\n",
       "    </tr>\n",
       "    <tr>\n",
       "      <th>75%</th>\n",
       "      <td>0.863075</td>\n",
       "      <td>-0.228618</td>\n",
       "      <td>0.745165</td>\n",
       "      <td>1.090131</td>\n",
       "    </tr>\n",
       "    <tr>\n",
       "      <th>max</th>\n",
       "      <td>1.337236</td>\n",
       "      <td>0.065785</td>\n",
       "      <td>0.949529</td>\n",
       "      <td>1.324846</td>\n",
       "    </tr>\n",
       "  </tbody>\n",
       "</table>\n",
       "</div>"
      ],
      "text/plain": [
       "              A         B         C         D\n",
       "count  6.000000  6.000000  6.000000  6.000000\n",
       "mean   0.657556 -0.316289  0.125449  0.685550\n",
       "std    0.526650  0.242353  0.747474  0.684295\n",
       "min   -0.252714 -0.594375 -0.950349 -0.586858\n",
       "25%    0.545218 -0.501191 -0.295393  0.575983\n",
       "50%    0.737319 -0.297051  0.115365  0.865372\n",
       "75%    0.863075 -0.228618  0.745165  1.090131\n",
       "max    1.337236  0.065785  0.949529  1.324846"
      ]
     },
     "execution_count": 15,
     "metadata": {},
     "output_type": "execute_result"
    }
   ],
   "source": [
    "df.describe()"
   ]
  },
  {
   "cell_type": "code",
   "execution_count": 16,
   "metadata": {},
   "outputs": [
    {
     "data": {
      "text/html": [
       "<div>\n",
       "<style scoped>\n",
       "    .dataframe tbody tr th:only-of-type {\n",
       "        vertical-align: middle;\n",
       "    }\n",
       "\n",
       "    .dataframe tbody tr th {\n",
       "        vertical-align: top;\n",
       "    }\n",
       "\n",
       "    .dataframe thead th {\n",
       "        text-align: right;\n",
       "    }\n",
       "</style>\n",
       "<table border=\"1\" class=\"dataframe\">\n",
       "  <thead>\n",
       "    <tr style=\"text-align: right;\">\n",
       "      <th></th>\n",
       "      <th>2019-08-19</th>\n",
       "      <th>2019-08-20</th>\n",
       "      <th>2019-08-21</th>\n",
       "      <th>2019-08-22</th>\n",
       "      <th>2019-08-23</th>\n",
       "      <th>2019-08-24</th>\n",
       "    </tr>\n",
       "  </thead>\n",
       "  <tbody>\n",
       "    <tr>\n",
       "      <th>A</th>\n",
       "      <td>-0.252714</td>\n",
       "      <td>0.880918</td>\n",
       "      <td>0.809549</td>\n",
       "      <td>0.505261</td>\n",
       "      <td>1.337236</td>\n",
       "      <td>0.665090</td>\n",
       "    </tr>\n",
       "    <tr>\n",
       "      <th>B</th>\n",
       "      <td>-0.225335</td>\n",
       "      <td>-0.355636</td>\n",
       "      <td>0.065785</td>\n",
       "      <td>-0.238466</td>\n",
       "      <td>-0.549709</td>\n",
       "      <td>-0.594375</td>\n",
       "    </tr>\n",
       "    <tr>\n",
       "      <th>C</th>\n",
       "      <td>-0.950349</td>\n",
       "      <td>0.949529</td>\n",
       "      <td>0.479020</td>\n",
       "      <td>-0.311095</td>\n",
       "      <td>-0.248290</td>\n",
       "      <td>0.833880</td>\n",
       "    </tr>\n",
       "    <tr>\n",
       "      <th>D</th>\n",
       "      <td>1.324846</td>\n",
       "      <td>0.512453</td>\n",
       "      <td>-0.586858</td>\n",
       "      <td>1.132118</td>\n",
       "      <td>0.766576</td>\n",
       "      <td>0.964168</td>\n",
       "    </tr>\n",
       "  </tbody>\n",
       "</table>\n",
       "</div>"
      ],
      "text/plain": [
       "   2019-08-19  2019-08-20  2019-08-21  2019-08-22  2019-08-23  2019-08-24\n",
       "A   -0.252714    0.880918    0.809549    0.505261    1.337236    0.665090\n",
       "B   -0.225335   -0.355636    0.065785   -0.238466   -0.549709   -0.594375\n",
       "C   -0.950349    0.949529    0.479020   -0.311095   -0.248290    0.833880\n",
       "D    1.324846    0.512453   -0.586858    1.132118    0.766576    0.964168"
      ]
     },
     "execution_count": 16,
     "metadata": {},
     "output_type": "execute_result"
    }
   ],
   "source": [
    "df.T # 转置"
   ]
  },
  {
   "cell_type": "markdown",
   "metadata": {},
   "source": [
    "以某一个轴排序，注意这是按照轴自己的值来排序，比如按照列名来排序："
   ]
  },
  {
   "cell_type": "code",
   "execution_count": 17,
   "metadata": {},
   "outputs": [
    {
     "data": {
      "text/html": [
       "<div>\n",
       "<style scoped>\n",
       "    .dataframe tbody tr th:only-of-type {\n",
       "        vertical-align: middle;\n",
       "    }\n",
       "\n",
       "    .dataframe tbody tr th {\n",
       "        vertical-align: top;\n",
       "    }\n",
       "\n",
       "    .dataframe thead th {\n",
       "        text-align: right;\n",
       "    }\n",
       "</style>\n",
       "<table border=\"1\" class=\"dataframe\">\n",
       "  <thead>\n",
       "    <tr style=\"text-align: right;\">\n",
       "      <th></th>\n",
       "      <th>D</th>\n",
       "      <th>C</th>\n",
       "      <th>B</th>\n",
       "      <th>A</th>\n",
       "    </tr>\n",
       "  </thead>\n",
       "  <tbody>\n",
       "    <tr>\n",
       "      <th>2019-08-19</th>\n",
       "      <td>1.324846</td>\n",
       "      <td>-0.950349</td>\n",
       "      <td>-0.225335</td>\n",
       "      <td>-0.252714</td>\n",
       "    </tr>\n",
       "    <tr>\n",
       "      <th>2019-08-20</th>\n",
       "      <td>0.512453</td>\n",
       "      <td>0.949529</td>\n",
       "      <td>-0.355636</td>\n",
       "      <td>0.880918</td>\n",
       "    </tr>\n",
       "    <tr>\n",
       "      <th>2019-08-21</th>\n",
       "      <td>-0.586858</td>\n",
       "      <td>0.479020</td>\n",
       "      <td>0.065785</td>\n",
       "      <td>0.809549</td>\n",
       "    </tr>\n",
       "    <tr>\n",
       "      <th>2019-08-22</th>\n",
       "      <td>1.132118</td>\n",
       "      <td>-0.311095</td>\n",
       "      <td>-0.238466</td>\n",
       "      <td>0.505261</td>\n",
       "    </tr>\n",
       "    <tr>\n",
       "      <th>2019-08-23</th>\n",
       "      <td>0.766576</td>\n",
       "      <td>-0.248290</td>\n",
       "      <td>-0.549709</td>\n",
       "      <td>1.337236</td>\n",
       "    </tr>\n",
       "    <tr>\n",
       "      <th>2019-08-24</th>\n",
       "      <td>0.964168</td>\n",
       "      <td>0.833880</td>\n",
       "      <td>-0.594375</td>\n",
       "      <td>0.665090</td>\n",
       "    </tr>\n",
       "  </tbody>\n",
       "</table>\n",
       "</div>"
      ],
      "text/plain": [
       "                   D         C         B         A\n",
       "2019-08-19  1.324846 -0.950349 -0.225335 -0.252714\n",
       "2019-08-20  0.512453  0.949529 -0.355636  0.880918\n",
       "2019-08-21 -0.586858  0.479020  0.065785  0.809549\n",
       "2019-08-22  1.132118 -0.311095 -0.238466  0.505261\n",
       "2019-08-23  0.766576 -0.248290 -0.549709  1.337236\n",
       "2019-08-24  0.964168  0.833880 -0.594375  0.665090"
      ]
     },
     "execution_count": 17,
     "metadata": {},
     "output_type": "execute_result"
    }
   ],
   "source": [
    "df.sort_index(axis = 1, ascending = False)"
   ]
  },
  {
   "cell_type": "code",
   "execution_count": 21,
   "metadata": {},
   "outputs": [
    {
     "data": {
      "text/html": [
       "<div>\n",
       "<style scoped>\n",
       "    .dataframe tbody tr th:only-of-type {\n",
       "        vertical-align: middle;\n",
       "    }\n",
       "\n",
       "    .dataframe tbody tr th {\n",
       "        vertical-align: top;\n",
       "    }\n",
       "\n",
       "    .dataframe thead th {\n",
       "        text-align: right;\n",
       "    }\n",
       "</style>\n",
       "<table border=\"1\" class=\"dataframe\">\n",
       "  <thead>\n",
       "    <tr style=\"text-align: right;\">\n",
       "      <th></th>\n",
       "      <th>A</th>\n",
       "      <th>B</th>\n",
       "      <th>C</th>\n",
       "      <th>D</th>\n",
       "    </tr>\n",
       "  </thead>\n",
       "  <tbody>\n",
       "    <tr>\n",
       "      <th>2019-08-19</th>\n",
       "      <td>-0.252714</td>\n",
       "      <td>-0.225335</td>\n",
       "      <td>-0.950349</td>\n",
       "      <td>1.324846</td>\n",
       "    </tr>\n",
       "    <tr>\n",
       "      <th>2019-08-20</th>\n",
       "      <td>0.880918</td>\n",
       "      <td>-0.355636</td>\n",
       "      <td>0.949529</td>\n",
       "      <td>0.512453</td>\n",
       "    </tr>\n",
       "    <tr>\n",
       "      <th>2019-08-21</th>\n",
       "      <td>0.809549</td>\n",
       "      <td>0.065785</td>\n",
       "      <td>0.479020</td>\n",
       "      <td>-0.586858</td>\n",
       "    </tr>\n",
       "    <tr>\n",
       "      <th>2019-08-22</th>\n",
       "      <td>0.505261</td>\n",
       "      <td>-0.238466</td>\n",
       "      <td>-0.311095</td>\n",
       "      <td>1.132118</td>\n",
       "    </tr>\n",
       "    <tr>\n",
       "      <th>2019-08-23</th>\n",
       "      <td>1.337236</td>\n",
       "      <td>-0.549709</td>\n",
       "      <td>-0.248290</td>\n",
       "      <td>0.766576</td>\n",
       "    </tr>\n",
       "    <tr>\n",
       "      <th>2019-08-24</th>\n",
       "      <td>0.665090</td>\n",
       "      <td>-0.594375</td>\n",
       "      <td>0.833880</td>\n",
       "      <td>0.964168</td>\n",
       "    </tr>\n",
       "  </tbody>\n",
       "</table>\n",
       "</div>"
      ],
      "text/plain": [
       "                   A         B         C         D\n",
       "2019-08-19 -0.252714 -0.225335 -0.950349  1.324846\n",
       "2019-08-20  0.880918 -0.355636  0.949529  0.512453\n",
       "2019-08-21  0.809549  0.065785  0.479020 -0.586858\n",
       "2019-08-22  0.505261 -0.238466 -0.311095  1.132118\n",
       "2019-08-23  1.337236 -0.549709 -0.248290  0.766576\n",
       "2019-08-24  0.665090 -0.594375  0.833880  0.964168"
      ]
     },
     "execution_count": 21,
     "metadata": {},
     "output_type": "execute_result"
    }
   ],
   "source": [
    "df.sort_index(axis = 0, ascending = True)"
   ]
  },
  {
   "cell_type": "markdown",
   "metadata": {},
   "source": [
    "也可以按照数据的值来排序："
   ]
  },
  {
   "cell_type": "code",
   "execution_count": 18,
   "metadata": {},
   "outputs": [
    {
     "data": {
      "text/html": [
       "<div>\n",
       "<style scoped>\n",
       "    .dataframe tbody tr th:only-of-type {\n",
       "        vertical-align: middle;\n",
       "    }\n",
       "\n",
       "    .dataframe tbody tr th {\n",
       "        vertical-align: top;\n",
       "    }\n",
       "\n",
       "    .dataframe thead th {\n",
       "        text-align: right;\n",
       "    }\n",
       "</style>\n",
       "<table border=\"1\" class=\"dataframe\">\n",
       "  <thead>\n",
       "    <tr style=\"text-align: right;\">\n",
       "      <th></th>\n",
       "      <th>A</th>\n",
       "      <th>B</th>\n",
       "      <th>C</th>\n",
       "      <th>D</th>\n",
       "    </tr>\n",
       "  </thead>\n",
       "  <tbody>\n",
       "    <tr>\n",
       "      <th>2019-08-24</th>\n",
       "      <td>0.665090</td>\n",
       "      <td>-0.594375</td>\n",
       "      <td>0.833880</td>\n",
       "      <td>0.964168</td>\n",
       "    </tr>\n",
       "    <tr>\n",
       "      <th>2019-08-23</th>\n",
       "      <td>1.337236</td>\n",
       "      <td>-0.549709</td>\n",
       "      <td>-0.248290</td>\n",
       "      <td>0.766576</td>\n",
       "    </tr>\n",
       "    <tr>\n",
       "      <th>2019-08-20</th>\n",
       "      <td>0.880918</td>\n",
       "      <td>-0.355636</td>\n",
       "      <td>0.949529</td>\n",
       "      <td>0.512453</td>\n",
       "    </tr>\n",
       "    <tr>\n",
       "      <th>2019-08-22</th>\n",
       "      <td>0.505261</td>\n",
       "      <td>-0.238466</td>\n",
       "      <td>-0.311095</td>\n",
       "      <td>1.132118</td>\n",
       "    </tr>\n",
       "    <tr>\n",
       "      <th>2019-08-19</th>\n",
       "      <td>-0.252714</td>\n",
       "      <td>-0.225335</td>\n",
       "      <td>-0.950349</td>\n",
       "      <td>1.324846</td>\n",
       "    </tr>\n",
       "    <tr>\n",
       "      <th>2019-08-21</th>\n",
       "      <td>0.809549</td>\n",
       "      <td>0.065785</td>\n",
       "      <td>0.479020</td>\n",
       "      <td>-0.586858</td>\n",
       "    </tr>\n",
       "  </tbody>\n",
       "</table>\n",
       "</div>"
      ],
      "text/plain": [
       "                   A         B         C         D\n",
       "2019-08-24  0.665090 -0.594375  0.833880  0.964168\n",
       "2019-08-23  1.337236 -0.549709 -0.248290  0.766576\n",
       "2019-08-20  0.880918 -0.355636  0.949529  0.512453\n",
       "2019-08-22  0.505261 -0.238466 -0.311095  1.132118\n",
       "2019-08-19 -0.252714 -0.225335 -0.950349  1.324846\n",
       "2019-08-21  0.809549  0.065785  0.479020 -0.586858"
      ]
     },
     "execution_count": 18,
     "metadata": {},
     "output_type": "execute_result"
    }
   ],
   "source": [
    "df.sort_values(by = 'B')"
   ]
  },
  {
   "cell_type": "code",
   "execution_count": null,
   "metadata": {},
   "outputs": [],
   "source": []
  }
 ],
 "metadata": {
  "kernelspec": {
   "display_name": "py37",
   "language": "python",
   "name": "py37"
  },
  "language_info": {
   "codemirror_mode": {
    "name": "ipython",
    "version": 3
   },
   "file_extension": ".py",
   "mimetype": "text/x-python",
   "name": "python",
   "nbconvert_exporter": "python",
   "pygments_lexer": "ipython3",
   "version": "3.7.3"
  }
 },
 "nbformat": 4,
 "nbformat_minor": 2
}
