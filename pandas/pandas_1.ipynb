{
 "cells": [
  {
   "cell_type": "markdown",
   "metadata": {},
   "source": [
    "## 初识pandas\n",
    "\n",
    "首先，pandas重点提供了两种数据结构：\n",
    "- Series\n",
    "\n",
    "  序列，一维数据，是对NumPy的一维数组的封装，但是相较于NumPy使用整型下标，它使用自定义(比如有意义的字符串)的索引(index)\n",
    "- DataFrame\n",
    "\n",
    "  数据框，二维数据，是对NumPy的二维数组的封装，但是相较于NumPy使用整型下标，它可以使用自定义的索引(index)和列名(column)\n",
    "\n",
    "在使用index,column之外，这两个封装额外还附带了更多趁手的方法，比如：\n",
    "- describe ——— 快速计算数据的各种描述性统计值(均值、总和、中位数、四分位数等等)\n",
    "- unique ——— 数据的独立值列表(比如想知道某个特征的所有取值可能)\n",
    "- value_count ——— 各个值的计数\n",
    "- hist ——— 直接绘制直方图\n",
    "- plot ———— 对matplotlib进行了简单的封装，可以快速地进行简单的数据绘图\n",
    "\n",
    "其次，pandas还提供了很多非常有用的处理数据时的小工具，比如:\n",
    "- 便捷的Ｉ/O ——— 提供了直接读取Excel、CSV等常见的数据文件工具\n",
    "- SQL的功能 ——— 提供了groupby，join等功能\n",
    "- Excel的功能 ——— 透视表(pivot table)功能\n",
    "- 日期相关功能 ——— 直观到像自然语言，不必费劲地去理解Python自带的日期库"
   ]
  },
  {
   "cell_type": "markdown",
   "metadata": {},
   "source": [
    "接下来，我们大致领略一下pandas的核心功能\n",
    "首先导入需要用的模块:"
   ]
  },
  {
   "cell_type": "code",
   "execution_count": null,
   "metadata": {},
   "outputs": [],
   "source": [
    "import pandas as pd\n",
    "import numpy as np\n",
    "import matplotlib.pyplot as plt\n",
    "%matplotlib inline"
   ]
  },
  {
   "cell_type": "markdown",
   "metadata": {},
   "source": [
    "# 创建对象(Object Creation)\n",
    "通过传入一个列表数据，pandas可以创建一个使用默认整型作为索引的Series对象"
   ]
  },
  {
   "cell_type": "code",
   "execution_count": null,
   "metadata": {},
   "outputs": [],
   "source": [
    "s = pd.Series([1,2,3,4,np.nan,6,7,8])\n",
    "s"
   ]
  },
  {
   "cell_type": "markdown",
   "metadata": {},
   "source": [
    "可以构建一个使用日期和标签作为索引的DataFrame对象"
   ]
  },
  {
   "cell_type": "code",
   "execution_count": null,
   "metadata": {},
   "outputs": [],
   "source": [
    "dates = pd.date_range('20190819', periods = 6)\n",
    "dates"
   ]
  },
  {
   "cell_type": "code",
   "execution_count": null,
   "metadata": {},
   "outputs": [],
   "source": [
    "df = pd.DataFrame(np.random.randn(6,4), index=dates, columns=tuple('ABCD')) # tuple('ABCD') is short for ('A','B','C','D')\n",
    "df"
   ]
  },
  {
   "cell_type": "markdown",
   "metadata": {},
   "source": [
    "也可以使用一个字典(dict)来创建一个DataFrame对象，而且它会自动应用NumPy的广播"
   ]
  },
  {
   "cell_type": "code",
   "execution_count": null,
   "metadata": {},
   "outputs": [],
   "source": [
    "df2 = pd.DataFrame({'A' : 1.,\n",
    "                    'B' : pd.Timestamp('20171026'),\n",
    "                    'C' : pd.Series(1, index=list(range(4)),dtype='float32'),\n",
    "                    'D' : np.array([3] * 4, dtype = 'int32'),\n",
    "                    'E' : pd.Categorical([\"test\", \"train\", \"test\", \"train\"]),\n",
    "                    'F' : 'foo'})\n",
    "df2"
   ]
  },
  {
   "cell_type": "code",
   "execution_count": null,
   "metadata": {},
   "outputs": [],
   "source": [
    "df2.dtypes"
   ]
  },
  {
   "cell_type": "code",
   "execution_count": null,
   "metadata": {},
   "outputs": [],
   "source": [
    "df2.C # 直接使用标签来选择列，等价于df2['C']"
   ]
  },
  {
   "cell_type": "markdown",
   "metadata": {},
   "source": [
    "## 查看数据(viewing data)\n",
    "比如想看看一个DataFrame的头部和尾部："
   ]
  },
  {
   "cell_type": "code",
   "execution_count": null,
   "metadata": {},
   "outputs": [],
   "source": [
    "df.head() #head默认参数为5，前5行"
   ]
  },
  {
   "cell_type": "code",
   "execution_count": null,
   "metadata": {},
   "outputs": [],
   "source": [
    "df.tail(3)"
   ]
  },
  {
   "cell_type": "markdown",
   "metadata": {},
   "source": [
    "我们也可以看看索引、列名、以及底层的numpy数据都是什么样"
   ]
  },
  {
   "cell_type": "code",
   "execution_count": null,
   "metadata": {},
   "outputs": [],
   "source": [
    "df.index"
   ]
  },
  {
   "cell_type": "code",
   "execution_count": null,
   "metadata": {},
   "outputs": [],
   "source": [
    "df.columns"
   ]
  },
  {
   "cell_type": "code",
   "execution_count": null,
   "metadata": {},
   "outputs": [],
   "source": [
    "df.values"
   ]
  },
  {
   "cell_type": "markdown",
   "metadata": {},
   "source": [
    "而且我们可以通过describe()方法来快速地看看数据的概括统计：\n",
    "- count:统计数量\n",
    "- mean: 均值\n",
    "- std: 标准差\n",
    "- min: 最小值\n",
    "- 25%: 四分位数\n",
    "- 50%: 中位数\n",
    "- 75%: 四分之三位数\n",
    "- max: 最大值"
   ]
  },
  {
   "cell_type": "code",
   "execution_count": null,
   "metadata": {},
   "outputs": [],
   "source": [
    "df.describe()"
   ]
  },
  {
   "cell_type": "code",
   "execution_count": null,
   "metadata": {},
   "outputs": [],
   "source": [
    "df.T # 转置"
   ]
  },
  {
   "cell_type": "markdown",
   "metadata": {},
   "source": [
    "以某一个轴排序，注意这是按照轴自己的值来排序，比如按照列名来排序："
   ]
  },
  {
   "cell_type": "code",
   "execution_count": null,
   "metadata": {},
   "outputs": [],
   "source": [
    "df.sort_index(axis = 1, ascending = False)"
   ]
  },
  {
   "cell_type": "code",
   "execution_count": null,
   "metadata": {},
   "outputs": [],
   "source": [
    "df.sort_index(axis = 0, ascending = True)"
   ]
  },
  {
   "cell_type": "markdown",
   "metadata": {},
   "source": [
    "也可以按照数据的值来排序："
   ]
  },
  {
   "cell_type": "code",
   "execution_count": null,
   "metadata": {},
   "outputs": [],
   "source": [
    "df.sort_values(by = 'B')"
   ]
  },
  {
   "cell_type": "markdown",
   "metadata": {},
   "source": [
    "## 选择数据(Selection)\n",
    "pandas数据访问方法，如：.at, .iat, .loc, .iloc以及.ix\n",
    "\n",
    "https://www.cnblogs.com/anliux/p/10805103.html\n",
    "\n",
    "这里给出索引(index/selection)方法的概览：\n",
    "\n",
    "操作             |语法                       | 结果类型\n",
    "---------------:|--------------------------:|--------------:\n",
    "选择列           |df[col]                    | Series\n",
    "选择行           |df.loc[label]              | Series\n",
    "选择列、行        |df.loc[index,column]      |  DataFrame\n",
    "使用位置选择行    |df.iloc[loc]               |  Series\n",
    "使用位置选择行、列 |df.iloc[v_loc, h_loc]      |  DataFrame\n",
    "行切片           |df[5:10]/df[index1:index2] |  DataFrame\n",
    "使用布尔向量选择行 |df[bool_vec]               |  DataFrame\n",
    "\n",
    "## 访问数据(Getting)\n",
    "选择某一列，会返回一个Series对象，等价与df.A"
   ]
  },
  {
   "cell_type": "code",
   "execution_count": null,
   "metadata": {},
   "outputs": [],
   "source": [
    "df['A']"
   ]
  },
  {
   "cell_type": "markdown",
   "metadata": {},
   "source": [
    "使用切片的方式获得某些行："
   ]
  },
  {
   "cell_type": "code",
   "execution_count": null,
   "metadata": {},
   "outputs": [],
   "source": [
    "df[0:3]"
   ]
  },
  {
   "cell_type": "markdown",
   "metadata": {},
   "source": [
    "这种方法和NumPy的二维数组没有什么区别，但是在pandas中我们可以直接使用索引的值，更加自然："
   ]
  },
  {
   "cell_type": "code",
   "execution_count": null,
   "metadata": {},
   "outputs": [],
   "source": [
    "df['20190819':'20190821'] # 注意这种索引值，结束值也会被返回，因为它们不是整型数字"
   ]
  },
  {
   "cell_type": "markdown",
   "metadata": {},
   "source": [
    "## 使用标签选择数据\n",
    "loc方法使用索引或者列标签来选择数据："
   ]
  },
  {
   "cell_type": "code",
   "execution_count": null,
   "metadata": {},
   "outputs": [],
   "source": [
    "df.loc[dates[0]]"
   ]
  },
  {
   "cell_type": "code",
   "execution_count": null,
   "metadata": {},
   "outputs": [],
   "source": [
    "df.loc[:, ['A', 'B']] # 指定要A,B两列"
   ]
  },
  {
   "cell_type": "code",
   "execution_count": null,
   "metadata": {},
   "outputs": [],
   "source": [
    "df.loc['20190819':'20190824', ['A', 'B']] # index是可以被切片的"
   ]
  },
  {
   "cell_type": "code",
   "execution_count": null,
   "metadata": {},
   "outputs": [],
   "source": [
    "df.loc['20190819':'20190824', 'A' : 'B'] # columns也可以被切片"
   ]
  },
  {
   "cell_type": "code",
   "execution_count": null,
   "metadata": {},
   "outputs": [],
   "source": [
    "df.loc[dates[0], 'A'] # 获取特定位置的数据"
   ]
  },
  {
   "cell_type": "code",
   "execution_count": null,
   "metadata": {},
   "outputs": [],
   "source": [
    "df.at[dates[0], 'A'] # 和上面一行等价"
   ]
  },
  {
   "cell_type": "code",
   "execution_count": null,
   "metadata": {},
   "outputs": [],
   "source": []
  }
 ],
 "metadata": {
  "kernelspec": {
   "display_name": "py37",
   "language": "python",
   "name": "py37"
  },
  "language_info": {
   "codemirror_mode": {
    "name": "ipython",
    "version": 3
   },
   "file_extension": ".py",
   "mimetype": "text/x-python",
   "name": "python",
   "nbconvert_exporter": "python",
   "pygments_lexer": "ipython3",
   "version": "3.7.3"
  }
 },
 "nbformat": 4,
 "nbformat_minor": 2
}
